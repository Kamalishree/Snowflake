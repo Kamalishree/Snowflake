{
 "metadata": {
  "kernelspec": {
   "display_name": "Streamlit Notebook",
   "name": "streamlit"
  },
  "lastEditStatus": {
   "notebookId": "rpudvimmnzgwpwi2ozme",
   "authorId": "8453828947476",
   "authorName": "DEV_USER1",
   "authorEmail": "",
   "sessionId": "372a6d13-e8a7-49d1-9ee3-46b7a547ecae",
   "lastEditTime": 1760425176678
  }
 },
 "nbformat_minor": 5,
 "nbformat": 4,
 "cells": [
  {
   "cell_type": "code",
   "id": "3775908f-ca36-4846-8f38-5adca39217f2",
   "metadata": {
    "language": "python",
    "name": "cell1"
   },
   "source": "# We can also use Snowpark for our analyses!\nfrom snowflake.snowpark.context import get_active_session\nsession = get_active_session()\n",
   "execution_count": null,
   "outputs": []
  },
  {
   "cell_type": "code",
   "id": "8d50cbf4-0c8d-4950-86cb-114990437ac9",
   "metadata": {
    "language": "python",
    "name": "cell2",
    "codeCollapsed": false
   },
   "source": "df_orders = session.table(\"SNOWFLAKE_SAMPLE_DATA.TPCH_SF10.ORDERS\")\ndf_orders.show(5)",
   "execution_count": null,
   "outputs": []
  },
  {
   "cell_type": "code",
   "id": "c695373e-ac74-4b62-a1f1-08206cbd5c81",
   "metadata": {
    "language": "python",
    "name": "cell3"
   },
   "source": "df_orders.groupBy(\"O_ORDERSTATUS\").avg(\"O_TOTALPRICE\").show()",
   "execution_count": null,
   "outputs": []
  }
 ]
}